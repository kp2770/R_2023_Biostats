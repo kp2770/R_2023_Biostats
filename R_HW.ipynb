{
  "nbformat": 4,
  "nbformat_minor": 0,
  "metadata": {
    "colab": {
      "provenance": [],
      "authorship_tag": "ABX9TyNKEprChg9p0zoCE+i4VV1f",
      "include_colab_link": true
    },
    "kernelspec": {
      "name": "python3",
      "display_name": "Python 3"
    },
    "language_info": {
      "name": "python"
    }
  },
  "cells": [
    {
      "cell_type": "markdown",
      "metadata": {
        "id": "view-in-github",
        "colab_type": "text"
      },
      "source": [
        "<a href=\"https://colab.research.google.com/github/kp2770/R_2023_Biostats/blob/main/R_HW.ipynb\" target=\"_parent\"><img src=\"https://colab.research.google.com/assets/colab-badge.svg\" alt=\"Open In Colab\"/></a>"
      ]
    },
    {
      "cell_type": "code",
      "execution_count": 2,
      "metadata": {
        "colab": {
          "base_uri": "https://localhost:8080/",
          "height": 176
        },
        "id": "tzzAbqgWGh8e",
        "outputId": "533892d1-f9a4-4096-e6ab-f731e599b4b4"
      },
      "outputs": [
        {
          "output_type": "error",
          "ename": "NameError",
          "evalue": "ignored",
          "traceback": [
            "\u001b[0;31m---------------------------------------------------------------------------\u001b[0m",
            "\u001b[0;31mNameError\u001b[0m                                 Traceback (most recent call last)",
            "\u001b[0;32m<ipython-input-2-2a43bfa04f14>\u001b[0m in \u001b[0;36m<cell line: 1>\u001b[0;34m()\u001b[0m\n\u001b[0;32m----> 1\u001b[0;31m \u001b[0mdate\u001b[0m\u001b[0;34m.\u001b[0m\u001b[0mtoday\u001b[0m\u001b[0;34m(\u001b[0m\u001b[0;34m)\u001b[0m\u001b[0;34m\u001b[0m\u001b[0;34m\u001b[0m\u001b[0m\n\u001b[0m",
            "\u001b[0;31mNameError\u001b[0m: name 'date' is not defined"
          ]
        }
      ],
      "source": [
        "2*5"
      ]
    },
    {
      "cell_type": "code",
      "source": [
        "11/1/2023"
      ],
      "metadata": {
        "id": "EEaApDfMH7n5"
      },
      "execution_count": null,
      "outputs": []
    },
    {
      "cell_type": "markdown",
      "source": [
        "Repositories that allow code sharing are critical for reproducibility as more and more discoveries are made computationally. As we apparently discovered while submitting our midterm assignments, important steps such as sharing the original data file and formating that is used in your analysis is easy to overlook. Many times when accessing raw data on GEO, or accessing analyzed data in supplementary figures, it is very unclear what the sample names refer to or what normalization steps were taken. On the one hand, despositing data into platforms such as GEO etc are useful because they compell researchers to share data at the time of publication and in a version that is preserved over time. I have also found though that sites such as github allow a lab share data and all files in a way that makes sense to them and can continue to be a living document. In some cases, data from publications shared via github link are better annotated and updated more regularly. Clear and consise commenting of code is also essential for computational reproducibility. Many times, researchers with minimal computational experience use analysis files written by bioinformaticians and apply the code to their own data. While valuable that this code is shared, there is a high risk for incorrect analysis due to improper understanding of the code. Ideally computational biologists might comment their code in a way for those with minimal experience to understand. Finally, github is a conducive platform for interation regarding data and analysis such that other researchers can ask questions."
      ],
      "metadata": {
        "id": "CDcLjog5IGUT"
      }
    },
    {
      "cell_type": "markdown",
      "source": [],
      "metadata": {
        "id": "IqxUdbtHGnG7"
      }
    }
  ]
}